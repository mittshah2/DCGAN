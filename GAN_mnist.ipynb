{
  "nbformat": 4,
  "nbformat_minor": 0,
  "metadata": {
    "colab": {
      "name": "GAN_mnist.ipynb",
      "provenance": [],
      "collapsed_sections": [],
      "machine_shape": "hm",
      "mount_file_id": "1DX44QA48bev00np9NJlqvSLoOccaAMyP",
      "authorship_tag": "ABX9TyOdVgI5ToT+x8cS1vgHtU0/",
      "include_colab_link": true
    },
    "kernelspec": {
      "name": "python3",
      "display_name": "Python 3"
    },
    "accelerator": "GPU"
  },
  "cells": [
    {
      "cell_type": "markdown",
      "metadata": {
        "id": "view-in-github",
        "colab_type": "text"
      },
      "source": [
        "<a href=\"https://colab.research.google.com/github/mittshah2/DCGAN/blob/master/GAN_mnist.ipynb\" target=\"_parent\"><img src=\"https://colab.research.google.com/assets/colab-badge.svg\" alt=\"Open In Colab\"/></a>"
      ]
    },
    {
      "cell_type": "code",
      "metadata": {
        "id": "zC82UzgihhpP",
        "colab_type": "code",
        "colab": {}
      },
      "source": [
        "import numpy as np\n",
        "import pandas as pd\n",
        "import matplotlib.pyplot as p\n",
        "import os"
      ],
      "execution_count": 0,
      "outputs": []
    },
    {
      "cell_type": "code",
      "metadata": {
        "id": "lcfx70JKiwP-",
        "colab_type": "code",
        "colab": {}
      },
      "source": [
        "from tensorflow.keras.datasets import mnist\n",
        "\n",
        "(x_train,y_train),(x_test,y_test)=mnist.load_data()\n",
        "x_train = x_train/255\n",
        "x_train = x_train.reshape(-1, 28, 28, 1) * 2. - 1."
      ],
      "execution_count": 0,
      "outputs": []
    },
    {
      "cell_type": "code",
      "metadata": {
        "id": "dRIrhigIkod0",
        "colab_type": "code",
        "outputId": "e62c8e91-28b1-453f-d486-4d246b578086",
        "colab": {
          "base_uri": "https://localhost:8080/",
          "height": 284
        }
      },
      "source": [
        "p.imshow(x_train[235].reshape(28,28),cmap='gray')"
      ],
      "execution_count": 10,
      "outputs": [
        {
          "output_type": "execute_result",
          "data": {
            "text/plain": [
              "<matplotlib.image.AxesImage at 0x7f3273911160>"
            ]
          },
          "metadata": {
            "tags": []
          },
          "execution_count": 10
        },
        {
          "output_type": "display_data",
          "data": {
            "image/png": "[encoded data removed]",
            "text/plain": [
              "<Figure size 432x288 with 1 Axes>"
            ]
          },
          "metadata": {
            "tags": [],
            "needs_background": "light"
          }
        }
      ]
    },
    {
      "cell_type": "code",
      "metadata": {
        "id": "TTj2xWpdlDGj",
        "colab_type": "code",
        "colab": {}
      },
      "source": [
        "import tensorflow as tf\n",
        "from tensorflow.keras.layers import Dense,Reshape,Dropout,LeakyReLU,Flatten,BatchNormalization,Conv2D,Conv2DTranspose\n",
        "from tensorflow.keras.models import Sequential\n",
        "np.random.seed(42)\n",
        "tf.random.set_seed(42)\n",
        "\n",
        "coding_size = 100"
      ],
      "execution_count": 0,
      "outputs": []
    },
    {
      "cell_type": "code",
      "metadata": {
        "id": "uAot7y7klqJD",
        "colab_type": "code",
        "outputId": "598d3494-dcfa-422c-e86b-3157ed1488cb",
        "colab": {
          "base_uri": "https://localhost:8080/",
          "height": 500
        }
      },
      "source": [
        "discriminator = Sequential(name='discriminator')\n",
        "discriminator.add(Conv2D(64, kernel_size=5, strides=2, padding=\"same\",\n",
        "                        activation=LeakyReLU(0.3),\n",
        "                        input_shape=[28, 28, 1]))\n",
        "discriminator.add(Dropout(0.5))\n",
        "discriminator.add(Conv2D(128, kernel_size=5, strides=2, padding=\"same\",\n",
        "                        activation=LeakyReLU(0.3)))\n",
        "discriminator.add(Dropout(0.5))\n",
        "discriminator.add(Flatten())\n",
        "discriminator.add(Dense(1024, activation=\"relu\"))\n",
        "discriminator.add(Dense(512, activation=\"relu\"))\n",
        "discriminator.add(Dense(64, activation=\"relu\"))\n",
        "discriminator.add(Dense(1, activation=\"sigmoid\"))\n",
        "\n",
        "discriminator.compile(loss='binary_crossentropy',optimizer='adam')\n",
        "discriminator.summary()"
      ],
      "execution_count": 25,
      "outputs": [
        {
          "output_type": "stream",
          "text": [
            "Model: \"discriminator\"\n",
            "_________________________________________________________________\n",
            "Layer (type)                 Output Shape              Param #   \n",
            "=================================================================\n",
            "conv2d_4 (Conv2D)            (None, 14, 14, 64)        1664      \n",
            "_________________________________________________________________\n",
            "dropout_4 (Dropout)          (None, 14, 14, 64)        0         \n",
            "_________________________________________________________________\n",
            "conv2d_5 (Conv2D)            (None, 7, 7, 128)         204928    \n",
            "_________________________________________________________________\n",
            "dropout_5 (Dropout)          (None, 7, 7, 128)         0         \n",
            "_________________________________________________________________\n",
            "flatten_2 (Flatten)          (None, 6272)              0         \n",
            "_________________________________________________________________\n",
            "dense_10 (Dense)             (None, 1024)              6423552   \n",
            "_________________________________________________________________\n",
            "dense_11 (Dense)             (None, 512)               524800    \n",
            "_________________________________________________________________\n",
            "dense_12 (Dense)             (None, 64)                32832     \n",
            "_________________________________________________________________\n",
            "dense_13 (Dense)             (None, 1)                 65        \n",
            "=================================================================\n",
            "Total params: 7,187,841\n",
            "Trainable params: 7,187,841\n",
            "Non-trainable params: 0\n",
            "_________________________________________________________________\n"
          ],
          "name": "stdout"
        }
      ]
    },
    {
      "cell_type": "code",
      "metadata": {
        "id": "HjtJjyX9mTYC",
        "colab_type": "code",
        "outputId": "e8c33567-b03a-4351-9d3f-36c2a2a8b329",
        "colab": {
          "base_uri": "https://localhost:8080/",
          "height": 388
        }
      },
      "source": [
        "generator = Sequential(name='generator')\n",
        "generator.add(Dense(7 * 7 * 128, input_shape=[coding_size]))\n",
        "generator.add(Reshape([7, 7, 128]))\n",
        "generator.add(BatchNormalization())\n",
        "generator.add(Conv2DTranspose(64, kernel_size=5, strides=2, padding=\"same\",\n",
        "                                 activation=\"relu\"))\n",
        "generator.add(BatchNormalization())\n",
        "generator.add(Conv2DTranspose(1, kernel_size=5, strides=2, padding=\"same\",\n",
        "                                 activation=\"tanh\"))\n",
        "generator.summary()"
      ],
      "execution_count": 26,
      "outputs": [
        {
          "output_type": "stream",
          "text": [
            "Model: \"generator\"\n",
            "_________________________________________________________________\n",
            "Layer (type)                 Output Shape              Param #   \n",
            "=================================================================\n",
            "dense_14 (Dense)             (None, 6272)              633472    \n",
            "_________________________________________________________________\n",
            "reshape_2 (Reshape)          (None, 7, 7, 128)         0         \n",
            "_________________________________________________________________\n",
            "batch_normalization_4 (Batch (None, 7, 7, 128)         512       \n",
            "_________________________________________________________________\n",
            "conv2d_transpose_4 (Conv2DTr (None, 14, 14, 64)        204864    \n",
            "_________________________________________________________________\n",
            "batch_normalization_5 (Batch (None, 14, 14, 64)        256       \n",
            "_________________________________________________________________\n",
            "conv2d_transpose_5 (Conv2DTr (None, 28, 28, 1)         1601      \n",
            "=================================================================\n",
            "Total params: 840,705\n",
            "Trainable params: 840,321\n",
            "Non-trainable params: 384\n",
            "_________________________________________________________________\n"
          ],
          "name": "stdout"
        }
      ]
    },
    {
      "cell_type": "code",
      "metadata": {
        "id": "5tb29t_dnfFk",
        "colab_type": "code",
        "colab": {}
      },
      "source": [
        "GAN=Sequential([generator,discriminator])\n",
        "\n",
        "discriminator.trainable=False"
      ],
      "execution_count": 0,
      "outputs": []
    },
    {
      "cell_type": "code",
      "metadata": {
        "id": "GBZBp9ecn5WE",
        "colab_type": "code",
        "outputId": "23e66c37-be6c-4795-8059-fc35987fb5ce",
        "colab": {
          "base_uri": "https://localhost:8080/",
          "height": 240
        }
      },
      "source": [
        "GAN.compile(loss='binary_crossentropy',optimizer='adam')\n",
        "GAN.summary()"
      ],
      "execution_count": 28,
      "outputs": [
        {
          "output_type": "stream",
          "text": [
            "Model: \"sequential_4\"\n",
            "_________________________________________________________________\n",
            "Layer (type)                 Output Shape              Param #   \n",
            "=================================================================\n",
            "generator (Sequential)       (None, 28, 28, 1)         840705    \n",
            "_________________________________________________________________\n",
            "discriminator (Sequential)   (None, 1)                 7187841   \n",
            "=================================================================\n",
            "Total params: 8,028,546\n",
            "Trainable params: 840,321\n",
            "Non-trainable params: 7,188,225\n",
            "_________________________________________________________________\n"
          ],
          "name": "stdout"
        }
      ]
    },
    {
      "cell_type": "code",
      "metadata": {
        "id": "3zl2C-D2s2bu",
        "colab_type": "code",
        "colab": {}
      },
      "source": [
        "import tensorflow as tf\n",
        "dataset=tf.data.Dataset.from_tensor_slices(x_train).shuffle(buffer_size=1000)"
      ],
      "execution_count": 0,
      "outputs": []
    },
    {
      "cell_type": "code",
      "metadata": {
        "id": "uhs8zbJQtJxc",
        "colab_type": "code",
        "colab": {}
      },
      "source": [
        "batch_size=32\n",
        "dataset=dataset.batch(batch_size,drop_remainder=True)"
      ],
      "execution_count": 0,
      "outputs": []
    },
    {
      "cell_type": "code",
      "metadata": {
        "id": "rsfX8FW4ui2L",
        "colab_type": "code",
        "outputId": "aafa9089-edee-4ff6-ff27-e423009d0ab4",
        "colab": {
          "base_uri": "https://localhost:8080/",
          "height": 54
        }
      },
      "source": [
        "GAN.layers"
      ],
      "execution_count": 31,
      "outputs": [
        {
          "output_type": "execute_result",
          "data": {
            "text/plain": [
              "[<tensorflow.python.keras.engine.sequential.Sequential at 0x7f32120b6630>,\n",
              " <tensorflow.python.keras.engine.sequential.Sequential at 0x7f31fe7fb470>]"
            ]
          },
          "metadata": {
            "tags": []
          },
          "execution_count": 31
        }
      ]
    },
    {
      "cell_type": "code",
      "metadata": {
        "id": "eLGFyJ56u1UT",
        "colab_type": "code",
        "colab": {}
      },
      "source": [
        "epochs=20"
      ],
      "execution_count": 0,
      "outputs": []
    },
    {
      "cell_type": "code",
      "metadata": {
        "id": "zHpIHH-yvCuA",
        "colab_type": "code",
        "outputId": "5aa27b57-3917-4d38-c549-541a16f836b7",
        "colab": {
          "base_uri": "https://localhost:8080/",
          "height": 1000
        }
      },
      "source": [
        "for epoch in range(epochs):\n",
        "  i=0\n",
        "  print('currently on epoch',epoch+1)\n",
        "  for x_batch in dataset:\n",
        "    i=i+1\n",
        "    if(i%100==0):\n",
        "      print('\\tcurrently on batch',i)\n",
        "    \n",
        "    #discriminator\n",
        "    noise=tf.random.normal(shape=[batch_size,coding_size])\n",
        "    gen_images = generator(noise)\n",
        "\n",
        "    x_fake_vs_real=tf.concat([gen_images,tf.dtypes.cast(x_batch,tf.float32)],axis=0)\n",
        "\n",
        "    y1=tf.constant([[0.0]]*batch_size+[[1.0]]*batch_size)\n",
        "\n",
        "    discriminator.trainable=True\n",
        "\n",
        "    discriminator.train_on_batch(x_fake_vs_real,y1)\n",
        "\n",
        "    #train generator\n",
        "    noise=tf.random.normal(shape=[batch_size,coding_size])\n",
        "    y2=tf.constant([[1.0]]*batch_size)\n",
        "    discriminator.trainable=False\n",
        "    GAN.train_on_batch(noise,y2)"
      ],
      "execution_count": 33,
      "outputs": [
        {
          "output_type": "stream",
          "text": [
            "currently on epoch 1\n",
            "\tcurrently on batch 100\n",
            "\tcurrently on batch 200\n",
            "\tcurrently on batch 300\n",
            "\tcurrently on batch 400\n",
            "\tcurrently on batch 500\n",
            "\tcurrently on batch 600\n",
            "\tcurrently on batch 700\n",
            "\tcurrently on batch 800\n",
            "\tcurrently on batch 900\n",
            "\tcurrently on batch 1000\n",
            "\tcurrently on batch 1100\n",
            "\tcurrently on batch 1200\n",
            "\tcurrently on batch 1300\n",
            "\tcurrently on batch 1400\n",
            "\tcurrently on batch 1500\n",
            "\tcurrently on batch 1600\n",
            "\tcurrently on batch 1700\n",
            "\tcurrently on batch 1800\n",
            "currently on epoch 2\n",
            "\tcurrently on batch 100\n",
            "\tcurrently on batch 200\n",
            "\tcurrently on batch 300\n",
            "\tcurrently on batch 400\n",
            "\tcurrently on batch 500\n",
            "\tcurrently on batch 600\n",
            "\tcurrently on batch 700\n",
            "\tcurrently on batch 800\n",
            "\tcurrently on batch 900\n",
            "\tcurrently on batch 1000\n",
            "\tcurrently on batch 1100\n",
            "\tcurrently on batch 1200\n",
            "\tcurrently on batch 1300\n",
            "\tcurrently on batch 1400\n",
            "\tcurrently on batch 1500\n",
            "\tcurrently on batch 1600\n",
            "\tcurrently on batch 1700\n",
            "\tcurrently on batch 1800\n",
            "currently on epoch 3\n",
            "\tcurrently on batch 100\n",
            "\tcurrently on batch 200\n",
            "\tcurrently on batch 300\n",
            "\tcurrently on batch 400\n",
            "\tcurrently on batch 500\n",
            "\tcurrently on batch 600\n",
            "\tcurrently on batch 700\n",
            "\tcurrently on batch 800\n",
            "\tcurrently on batch 900\n",
            "\tcurrently on batch 1000\n",
            "\tcurrently on batch 1100\n",
            "\tcurrently on batch 1200\n",
            "\tcurrently on batch 1300\n",
            "\tcurrently on batch 1400\n",
            "\tcurrently on batch 1500\n",
            "\tcurrently on batch 1600\n",
            "\tcurrently on batch 1700\n",
            "\tcurrently on batch 1800\n",
            "currently on epoch 4\n",
            "\tcurrently on batch 100\n",
            "\tcurrently on batch 200\n",
            "\tcurrently on batch 300\n",
            "\tcurrently on batch 400\n",
            "\tcurrently on batch 500\n",
            "\tcurrently on batch 600\n",
            "\tcurrently on batch 700\n",
            "\tcurrently on batch 800\n",
            "\tcurrently on batch 900\n",
            "\tcurrently on batch 1000\n",
            "\tcurrently on batch 1100\n",
            "\tcurrently on batch 1200\n",
            "\tcurrently on batch 1300\n",
            "\tcurrently on batch 1400\n",
            "\tcurrently on batch 1500\n",
            "\tcurrently on batch 1600\n",
            "\tcurrently on batch 1700\n",
            "\tcurrently on batch 1800\n",
            "currently on epoch 5\n",
            "\tcurrently on batch 100\n",
            "\tcurrently on batch 200\n",
            "\tcurrently on batch 300\n",
            "\tcurrently on batch 400\n",
            "\tcurrently on batch 500\n",
            "\tcurrently on batch 600\n",
            "\tcurrently on batch 700\n",
            "\tcurrently on batch 800\n",
            "\tcurrently on batch 900\n",
            "\tcurrently on batch 1000\n",
            "\tcurrently on batch 1100\n",
            "\tcurrently on batch 1200\n",
            "\tcurrently on batch 1300\n",
            "\tcurrently on batch 1400\n",
            "\tcurrently on batch 1500\n",
            "\tcurrently on batch 1600\n",
            "\tcurrently on batch 1700\n",
            "\tcurrently on batch 1800\n",
            "currently on epoch 6\n",
            "\tcurrently on batch 100\n",
            "\tcurrently on batch 200\n",
            "\tcurrently on batch 300\n",
            "\tcurrently on batch 400\n",
            "\tcurrently on batch 500\n",
            "\tcurrently on batch 600\n",
            "\tcurrently on batch 700\n",
            "\tcurrently on batch 800\n",
            "\tcurrently on batch 900\n",
            "\tcurrently on batch 1000\n",
            "\tcurrently on batch 1100\n",
            "\tcurrently on batch 1200\n",
            "\tcurrently on batch 1300\n",
            "\tcurrently on batch 1400\n",
            "\tcurrently on batch 1500\n",
            "\tcurrently on batch 1600\n",
            "\tcurrently on batch 1700\n",
            "\tcurrently on batch 1800\n",
            "currently on epoch 7\n",
            "\tcurrently on batch 100\n",
            "\tcurrently on batch 200\n",
            "\tcurrently on batch 300\n",
            "\tcurrently on batch 400\n",
            "\tcurrently on batch 500\n",
            "\tcurrently on batch 600\n",
            "\tcurrently on batch 700\n",
            "\tcurrently on batch 800\n",
            "\tcurrently on batch 900\n",
            "\tcurrently on batch 1000\n",
            "\tcurrently on batch 1100\n",
            "\tcurrently on batch 1200\n",
            "\tcurrently on batch 1300\n",
            "\tcurrently on batch 1400\n",
            "\tcurrently on batch 1500\n",
            "\tcurrently on batch 1600\n",
            "\tcurrently on batch 1700\n",
            "\tcurrently on batch 1800\n",
            "currently on epoch 8\n",
            "\tcurrently on batch 100\n",
            "\tcurrently on batch 200\n",
            "\tcurrently on batch 300\n",
            "\tcurrently on batch 400\n",
            "\tcurrently on batch 500\n",
            "\tcurrently on batch 600\n",
            "\tcurrently on batch 700\n",
            "\tcurrently on batch 800\n",
            "\tcurrently on batch 900\n",
            "\tcurrently on batch 1000\n",
            "\tcurrently on batch 1100\n",
            "\tcurrently on batch 1200\n",
            "\tcurrently on batch 1300\n",
            "\tcurrently on batch 1400\n",
            "\tcurrently on batch 1500\n",
            "\tcurrently on batch 1600\n",
            "\tcurrently on batch 1700\n",
            "\tcurrently on batch 1800\n",
            "currently on epoch 9\n",
            "\tcurrently on batch 100\n",
            "\tcurrently on batch 200\n",
            "\tcurrently on batch 300\n",
            "\tcurrently on batch 400\n",
            "\tcurrently on batch 500\n",
            "\tcurrently on batch 600\n",
            "\tcurrently on batch 700\n",
            "\tcurrently on batch 800\n",
            "\tcurrently on batch 900\n",
            "\tcurrently on batch 1000\n",
            "\tcurrently on batch 1100\n",
            "\tcurrently on batch 1200\n",
            "\tcurrently on batch 1300\n",
            "\tcurrently on batch 1400\n",
            "\tcurrently on batch 1500\n",
            "\tcurrently on batch 1600\n",
            "\tcurrently on batch 1700\n",
            "\tcurrently on batch 1800\n",
            "currently on epoch 10\n",
            "\tcurrently on batch 100\n",
            "\tcurrently on batch 200\n",
            "\tcurrently on batch 300\n",
            "\tcurrently on batch 400\n",
            "\tcurrently on batch 500\n",
            "\tcurrently on batch 600\n",
            "\tcurrently on batch 700\n",
            "\tcurrently on batch 800\n",
            "\tcurrently on batch 900\n",
            "\tcurrently on batch 1000\n",
            "\tcurrently on batch 1100\n",
            "\tcurrently on batch 1200\n",
            "\tcurrently on batch 1300\n",
            "\tcurrently on batch 1400\n",
            "\tcurrently on batch 1500\n",
            "\tcurrently on batch 1600\n",
            "\tcurrently on batch 1700\n",
            "\tcurrently on batch 1800\n",
            "currently on epoch 11\n",
            "\tcurrently on batch 100\n",
            "\tcurrently on batch 200\n",
            "\tcurrently on batch 300\n",
            "\tcurrently on batch 400\n",
            "\tcurrently on batch 500\n",
            "\tcurrently on batch 600\n",
            "\tcurrently on batch 700\n",
            "\tcurrently on batch 800\n",
            "\tcurrently on batch 900\n",
            "\tcurrently on batch 1000\n",
            "\tcurrently on batch 1100\n",
            "\tcurrently on batch 1200\n",
            "\tcurrently on batch 1300\n",
            "\tcurrently on batch 1400\n",
            "\tcurrently on batch 1500\n",
            "\tcurrently on batch 1600\n",
            "\tcurrently on batch 1700\n",
            "\tcurrently on batch 1800\n",
            "currently on epoch 12\n",
            "\tcurrently on batch 100\n",
            "\tcurrently on batch 200\n",
            "\tcurrently on batch 300\n",
            "\tcurrently on batch 400\n",
            "\tcurrently on batch 500\n",
            "\tcurrently on batch 600\n",
            "\tcurrently on batch 700\n",
            "\tcurrently on batch 800\n",
            "\tcurrently on batch 900\n",
            "\tcurrently on batch 1000\n",
            "\tcurrently on batch 1100\n",
            "\tcurrently on batch 1200\n",
            "\tcurrently on batch 1300\n",
            "\tcurrently on batch 1400\n",
            "\tcurrently on batch 1500\n",
            "\tcurrently on batch 1600\n",
            "\tcurrently on batch 1700\n",
            "\tcurrently on batch 1800\n",
            "currently on epoch 13\n",
            "\tcurrently on batch 100\n",
            "\tcurrently on batch 200\n",
            "\tcurrently on batch 300\n",
            "\tcurrently on batch 400\n",
            "\tcurrently on batch 500\n",
            "\tcurrently on batch 600\n",
            "\tcurrently on batch 700\n",
            "\tcurrently on batch 800\n",
            "\tcurrently on batch 900\n",
            "\tcurrently on batch 1000\n",
            "\tcurrently on batch 1100\n",
            "\tcurrently on batch 1200\n",
            "\tcurrently on batch 1300\n",
            "\tcurrently on batch 1400\n",
            "\tcurrently on batch 1500\n",
            "\tcurrently on batch 1600\n",
            "\tcurrently on batch 1700\n",
            "\tcurrently on batch 1800\n",
            "currently on epoch 14\n",
            "\tcurrently on batch 100\n",
            "\tcurrently on batch 200\n",
            "\tcurrently on batch 300\n",
            "\tcurrently on batch 400\n",
            "\tcurrently on batch 500\n",
            "\tcurrently on batch 600\n",
            "\tcurrently on batch 700\n",
            "\tcurrently on batch 800\n",
            "\tcurrently on batch 900\n",
            "\tcurrently on batch 1000\n",
            "\tcurrently on batch 1100\n",
            "\tcurrently on batch 1200\n",
            "\tcurrently on batch 1300\n",
            "\tcurrently on batch 1400\n",
            "\tcurrently on batch 1500\n",
            "\tcurrently on batch 1600\n",
            "\tcurrently on batch 1700\n",
            "\tcurrently on batch 1800\n",
            "currently on epoch 15\n",
            "\tcurrently on batch 100\n",
            "\tcurrently on batch 200\n",
            "\tcurrently on batch 300\n",
            "\tcurrently on batch 400\n",
            "\tcurrently on batch 500\n",
            "\tcurrently on batch 600\n",
            "\tcurrently on batch 700\n",
            "\tcurrently on batch 800\n",
            "\tcurrently on batch 900\n",
            "\tcurrently on batch 1000\n",
            "\tcurrently on batch 1100\n",
            "\tcurrently on batch 1200\n",
            "\tcurrently on batch 1300\n",
            "\tcurrently on batch 1400\n",
            "\tcurrently on batch 1500\n",
            "\tcurrently on batch 1600\n",
            "\tcurrently on batch 1700\n",
            "\tcurrently on batch 1800\n",
            "currently on epoch 16\n",
            "\tcurrently on batch 100\n",
            "\tcurrently on batch 200\n",
            "\tcurrently on batch 300\n",
            "\tcurrently on batch 400\n",
            "\tcurrently on batch 500\n",
            "\tcurrently on batch 600\n",
            "\tcurrently on batch 700\n",
            "\tcurrently on batch 800\n",
            "\tcurrently on batch 900\n",
            "\tcurrently on batch 1000\n",
            "\tcurrently on batch 1100\n",
            "\tcurrently on batch 1200\n",
            "\tcurrently on batch 1300\n",
            "\tcurrently on batch 1400\n",
            "\tcurrently on batch 1500\n",
            "\tcurrently on batch 1600\n",
            "\tcurrently on batch 1700\n",
            "\tcurrently on batch 1800\n",
            "currently on epoch 17\n",
            "\tcurrently on batch 100\n",
            "\tcurrently on batch 200\n",
            "\tcurrently on batch 300\n",
            "\tcurrently on batch 400\n",
            "\tcurrently on batch 500\n",
            "\tcurrently on batch 600\n",
            "\tcurrently on batch 700\n",
            "\tcurrently on batch 800\n",
            "\tcurrently on batch 900\n",
            "\tcurrently on batch 1000\n",
            "\tcurrently on batch 1100\n",
            "\tcurrently on batch 1200\n",
            "\tcurrently on batch 1300\n",
            "\tcurrently on batch 1400\n",
            "\tcurrently on batch 1500\n",
            "\tcurrently on batch 1600\n",
            "\tcurrently on batch 1700\n",
            "\tcurrently on batch 1800\n",
            "currently on epoch 18\n",
            "\tcurrently on batch 100\n",
            "\tcurrently on batch 200\n",
            "\tcurrently on batch 300\n",
            "\tcurrently on batch 400\n",
            "\tcurrently on batch 500\n",
            "\tcurrently on batch 600\n",
            "\tcurrently on batch 700\n",
            "\tcurrently on batch 800\n",
            "\tcurrently on batch 900\n",
            "\tcurrently on batch 1000\n",
            "\tcurrently on batch 1100\n",
            "\tcurrently on batch 1200\n",
            "\tcurrently on batch 1300\n",
            "\tcurrently on batch 1400\n",
            "\tcurrently on batch 1500\n",
            "\tcurrently on batch 1600\n",
            "\tcurrently on batch 1700\n",
            "\tcurrently on batch 1800\n",
            "currently on epoch 19\n",
            "\tcurrently on batch 100\n",
            "\tcurrently on batch 200\n",
            "\tcurrently on batch 300\n",
            "\tcurrently on batch 400\n",
            "\tcurrently on batch 500\n",
            "\tcurrently on batch 600\n",
            "\tcurrently on batch 700\n",
            "\tcurrently on batch 800\n",
            "\tcurrently on batch 900\n",
            "\tcurrently on batch 1000\n",
            "\tcurrently on batch 1100\n",
            "\tcurrently on batch 1200\n",
            "\tcurrently on batch 1300\n",
            "\tcurrently on batch 1400\n",
            "\tcurrently on batch 1500\n",
            "\tcurrently on batch 1600\n",
            "\tcurrently on batch 1700\n",
            "\tcurrently on batch 1800\n",
            "currently on epoch 20\n",
            "\tcurrently on batch 100\n",
            "\tcurrently on batch 200\n",
            "\tcurrently on batch 300\n",
            "\tcurrently on batch 400\n",
            "\tcurrently on batch 500\n",
            "\tcurrently on batch 600\n",
            "\tcurrently on batch 700\n",
            "\tcurrently on batch 800\n",
            "\tcurrently on batch 900\n",
            "\tcurrently on batch 1000\n",
            "\tcurrently on batch 1100\n",
            "\tcurrently on batch 1200\n",
            "\tcurrently on batch 1300\n",
            "\tcurrently on batch 1400\n",
            "\tcurrently on batch 1500\n",
            "\tcurrently on batch 1600\n",
            "\tcurrently on batch 1700\n",
            "\tcurrently on batch 1800\n"
          ],
          "name": "stdout"
        }
      ]
    },
    {
      "cell_type": "code",
      "metadata": {
        "id": "-ycbpnZty3nn",
        "colab_type": "code",
        "outputId": "0a9bd407-9793-48f1-82a1-c991d25046df",
        "colab": {
          "base_uri": "https://localhost:8080/",
          "height": 96
        }
      },
      "source": [
        "noise=tf.random.normal(shape=[8,coding_size])\n",
        "p.imshow(noise)"
      ],
      "execution_count": 52,
      "outputs": [
        {
          "output_type": "execute_result",
          "data": {
            "text/plain": [
              "<matplotlib.image.AxesImage at 0x7f2fec787ac8>"
            ]
          },
          "metadata": {
            "tags": []
          },
          "execution_count": 52
        },
        {
          "output_type": "display_data",
          "data": {
            "image/png": "[encoded data removed]",
            "text/plain": [
              "<Figure size 432x288 with 1 Axes>"
            ]
          },
          "metadata": {
            "tags": [],
            "needs_background": "light"
          }
        }
      ]
    },
    {
      "cell_type": "code",
      "metadata": {
        "id": "BFqIY9i7zZ-F",
        "colab_type": "code",
        "colab": {}
      },
      "source": [
        "images=generator(noise)"
      ],
      "execution_count": 0,
      "outputs": []
    },
    {
      "cell_type": "code",
      "metadata": {
        "id": "K7Q7Hcu9zfQG",
        "colab_type": "code",
        "outputId": "00785623-959b-4dcf-9e7f-f8347bfa9639",
        "colab": {
          "base_uri": "https://localhost:8080/",
          "height": 593
        }
      },
      "source": [
        "p.figure(figsize=(20,10))\n",
        "for i in range(8):\n",
        "  p.subplot(4,2,i+1)\n",
        "  p.imshow(images[i].numpy().reshape(28,28),cmap='gray')"
      ],
      "execution_count": 54,
      "outputs": [
        {
          "output_type": "display_data",
          "data": {
            "image/png": "[encoded data removed]",
            "text/plain": [
              "<Figure size 1440x720 with 8 Axes>"
            ]
          },
          "metadata": {
            "tags": [],
            "needs_background": "light"
          }
        }
      ]
    }
  ]
}